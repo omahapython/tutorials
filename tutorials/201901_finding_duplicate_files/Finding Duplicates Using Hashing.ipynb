{
 "cells": [
  {
   "cell_type": "markdown",
   "metadata": {},
   "source": [
    "# How to Detect Duplicates Using Hashing\n",
    "\n",
    "#TODO: Write me.."
   ]
  },
  {
   "cell_type": "code",
   "execution_count": 15,
   "metadata": {},
   "outputs": [],
   "source": [
    "import hashlib\n",
    "from datetime import datetime\n",
    "from pprint import pprint\n",
    "import json"
   ]
  },
  {
   "cell_type": "code",
   "execution_count": 3,
   "metadata": {},
   "outputs": [
    {
     "name": "stdout",
     "output_type": "stream",
     "text": [
      "{'DSA',\n",
      " 'DSA-SHA',\n",
      " 'MD4',\n",
      " 'MD5',\n",
      " 'MDC2',\n",
      " 'RIPEMD160',\n",
      " 'SHA',\n",
      " 'SHA1',\n",
      " 'SHA224',\n",
      " 'SHA256',\n",
      " 'SHA384',\n",
      " 'SHA512',\n",
      " 'blake2b',\n",
      " 'blake2s',\n",
      " 'dsaEncryption',\n",
      " 'dsaWithSHA',\n",
      " 'ecdsa-with-SHA1',\n",
      " 'md4',\n",
      " 'md5',\n",
      " 'mdc2',\n",
      " 'ripemd160',\n",
      " 'sha',\n",
      " 'sha1',\n",
      " 'sha224',\n",
      " 'sha256',\n",
      " 'sha384',\n",
      " 'sha3_224',\n",
      " 'sha3_256',\n",
      " 'sha3_384',\n",
      " 'sha3_512',\n",
      " 'sha512',\n",
      " 'shake_128',\n",
      " 'shake_256',\n",
      " 'whirlpool'}\n",
      "{'blake2b',\n",
      " 'blake2s',\n",
      " 'md5',\n",
      " 'sha1',\n",
      " 'sha224',\n",
      " 'sha256',\n",
      " 'sha384',\n",
      " 'sha3_224',\n",
      " 'sha3_256',\n",
      " 'sha3_384',\n",
      " 'sha3_512',\n",
      " 'sha512',\n",
      " 'shake_128',\n",
      " 'shake_256'}\n"
     ]
    }
   ],
   "source": [
    "pprint(hashlib.algorithms_available)\n",
    "pprint(hashlib.algorithms_guaranteed)"
   ]
  },
  {
   "cell_type": "markdown",
   "metadata": {},
   "source": [
    "## Hashing Introduction\n",
    "\n",
    "\n",
    "What is a hash?"
   ]
  },
  {
   "cell_type": "code",
   "execution_count": 4,
   "metadata": {},
   "outputs": [
    {
     "name": "stdout",
     "output_type": "stream",
     "text": [
      "I am a fun hash!: 8a5495ee258d6b2b01284360026224ceb67451d111ce32611101a733c9252fe9\n",
      "I am a fun hash!  To be or not to be: ba29113f3516acb39fda9a9db0338a58008fe776d2100d36bd163611a408d492\n"
     ]
    }
   ],
   "source": [
    "# Initialize the hasher\n",
    "hasher = hashlib.sha256()\n",
    "\n",
    "# let's hash something\n",
    "hasher.update(b\"I am a fun hash!\")\n",
    "\n",
    "print(\"I am a fun hash!: \" + hasher.hexdigest())\n",
    "\n",
    "hasher.update(b\"To be or not to be\")\n",
    "\n",
    "print(\"I am a fun hash!  To be or not to be: \" + hasher.hexdigest())"
   ]
  },
  {
   "cell_type": "code",
   "execution_count": 5,
   "metadata": {},
   "outputs": [
    {
     "data": {
      "text/plain": [
       "'a4337bc45a8fc544c03f52dc550cd6e1e87021bc896588bd79e901e2'"
      ]
     },
     "execution_count": 5,
     "metadata": {},
     "output_type": "execute_result"
    }
   ],
   "source": [
    "hashlib.sha224(b\"Nobody inspects the spammish repetition\").hexdigest()"
   ]
  },
  {
   "cell_type": "markdown",
   "metadata": {},
   "source": [
    "## Example:  How to detect duplicate dictionaries\n",
    "\n",
    "Suppose Alice sends Bob a series of JSON objects over the wire, but Alice is forgetful and sends Bob multiple JSON blobs containing the same data.  Bob doesn't want to have to read Alice's messages multiple times, so he needs a way to figure out if they're duplicate messages."
   ]
  },
  {
   "cell_type": "code",
   "execution_count": 14,
   "metadata": {},
   "outputs": [
    {
     "name": "stdout",
     "output_type": "stream",
     "text": [
      "[{'message': 'Hello, Bob!',\n",
      "  'timestamp': datetime.datetime(2019, 1, 16, 4, 13, 2, 796639)},\n",
      " {'message': 'How are you doing, Bob?',\n",
      "  'timestamp': datetime.datetime(2019, 1, 16, 4, 13, 2, 796654)},\n",
      " {'id': 12454432,\n",
      "  'message': 'I see you Bob!',\n",
      "  'timestamp': datetime.datetime(2019, 1, 16, 4, 13, 2, 796665)},\n",
      " {'message': 'How are you doing, Bob?',\n",
      "  'timestamp': datetime.datetime(2019, 1, 16, 4, 13, 2, 796675)}]\n",
      "b'Hello, Bob!': 2558308eb3f6e132ab8ea8e38267d741ad28d99e5144e5767f4833517caa8d7f\n",
      "b'How are you doing, Bob?': 58d51a0d8906345bc8d748eb35ed951e74375ac0660b4509cee4b3b32b5a6ef1\n",
      "b'I see you Bob!': 75fc448b1b8a88cd7faafbe27dc1d256861cdf17c43b957a26c0e29877e02aee\n",
      "b'How are you doing, Bob?': 58d51a0d8906345bc8d748eb35ed951e74375ac0660b4509cee4b3b32b5a6ef1\n"
     ]
    }
   ],
   "source": [
    "alices_messages = [\n",
    "    {'message': 'Hello, Bob!', 'timestamp': datetime.now()},\n",
    "    {'message': 'How are you doing, Bob?', 'timestamp': datetime.now()},\n",
    "    {'id': 12454432, 'message': 'I see you Bob!', 'timestamp': datetime.now()},\n",
    "    {'message': 'How are you doing, Bob?', 'timestamp': datetime.now()},\n",
    "]\n",
    "\n",
    "pprint(alices_messages)\n",
    "\n",
    "\n",
    "# bob gets the message batch\n",
    "\n",
    "for message in alices_messages:\n",
    "    encoded_message = message.get('message').encode('utf-8')\n",
    "    message_hash = hashlib.sha256(encoded_message).hexdigest()\n",
    "    print(f'{encoded_message}: {message_hash}')"
   ]
  },
  {
   "cell_type": "code",
   "execution_count": 33,
   "metadata": {},
   "outputs": [
    {
     "name": "stdout",
     "output_type": "stream",
     "text": [
      "encoded message: {\"message\": \"Hello, Bob!\", \"timestamp\": \"2019-01-16 04:22:36.273661\", \"weather\": \"cloudy with a chance of meatballs\"}\n",
      "hash: 8dedfc71051b1b0ec17513c0a68c45d274dc4e6efef68e540ab507e451188eda\n",
      "encoded message: {\"message\": \"How are you doing, Bob?\", \"timestamp\": \"2019-01-16 04:22:36.273396\"}\n",
      "hash: b14c777503140bb3a752e39448ad800b45338fa6219461d0aad06ace01a040e3\n",
      "encoded message: {\"id\": 12454432, \"message\": \"I see you Bob!\", \"timestamp\": \"2019-01-16 04:22:36.273675\"}\n",
      "hash: 4e154fb2aeeffa2acef67b74acc042abafa81e986d2fb7bcae10d49131f0271c\n",
      "encoded message: {\"message\": \"How are you doing, Bob?\", \"timestamp\": \"2019-01-16 04:22:36.273396\"}\n",
      "hash: b14c777503140bb3a752e39448ad800b45338fa6219461d0aad06ace01a040e3\n",
      "Silly Alice, she sent a duplicate message!\n"
     ]
    }
   ],
   "source": [
    "# Bob notices Alice is sending duplicate messages, and decides to create a dictionary to filter them.\n",
    "duplicate_timestamp = datetime.now()\n",
    "\n",
    "alices_messages = [\n",
    "    {'message': 'Hello, Bob!', 'timestamp': datetime.now(), 'weather': 'cloudy with a chance of meatballs'},\n",
    "    {'message': 'How are you doing, Bob?', 'timestamp': duplicate_timestamp},\n",
    "    {'id': 12454432, 'message': 'I see you Bob!', 'timestamp': datetime.now()},\n",
    "    {'message': 'How are you doing, Bob?', 'timestamp': duplicate_timestamp},\n",
    "]\n",
    "\n",
    "unique_messages = {}\n",
    "\n",
    "for message in alices_messages:\n",
    "    encoded_message = json.dumps(message, sort_keys=True, default=str)\n",
    "    print(f'encoded message: {encoded_message}')\n",
    "    message_hash = hashlib.sha256(encoded_message.encode('utf-8')).hexdigest()\n",
    "    print(f'hash: {message_hash}')\n",
    "    \n",
    "    # check to see if message exists, and if not add it to the docket\n",
    "    if message_hash not in unique_messages:\n",
    "        unique_messages.update({message_hash: message})\n",
    "    else:\n",
    "        print('Silly Alice, she sent a duplicate message!')"
   ]
  },
  {
   "cell_type": "code",
   "execution_count": 32,
   "metadata": {},
   "outputs": [
    {
     "name": "stdout",
     "output_type": "stream",
     "text": [
      "{'920d25c5945a06816296e76be6fed3580bb90301b917a95d2e6435de51d313e2': {'message': 'Hello, Bob!', 'timestamp': datetime.datetime(2019, 1, 16, 4, 21, 48, 704614), 'weather': 'cloudy with a chance of meatballs'}, '8e68cdd36a43b86f1bc8a97fdfad68c0579b9a7bc63074ce5c2afd19f0e63b8e': {'message': 'How are you doing, Bob?', 'timestamp': datetime.datetime(2019, 1, 16, 4, 21, 48, 704211)}, '61f2ce83de73f8c8ca3781ae782e1dae4402f2b25e025e1461e6bc6467f1bd81': {'id': 12454432, 'message': 'I see you Bob!', 'timestamp': datetime.datetime(2019, 1, 16, 4, 21, 48, 704627)}}\n"
     ]
    }
   ],
   "source": [
    "print(unique_messages)"
   ]
  },
  {
   "cell_type": "code",
   "execution_count": null,
   "metadata": {},
   "outputs": [],
   "source": []
  },
  {
   "cell_type": "markdown",
   "metadata": {},
   "source": [
    "## Cryptographically Secure Hashing"
   ]
  },
  {
   "cell_type": "code",
   "execution_count": null,
   "metadata": {},
   "outputs": [],
   "source": []
  },
  {
   "cell_type": "code",
   "execution_count": null,
   "metadata": {},
   "outputs": [],
   "source": []
  }
 ],
 "metadata": {
  "kernelspec": {
   "display_name": "Python 3",
   "language": "python",
   "name": "python3"
  },
  "language_info": {
   "codemirror_mode": {
    "name": "ipython",
    "version": 3
   },
   "file_extension": ".py",
   "mimetype": "text/x-python",
   "name": "python",
   "nbconvert_exporter": "python",
   "pygments_lexer": "ipython3",
   "version": "3.7.1"
  }
 },
 "nbformat": 4,
 "nbformat_minor": 2
}
